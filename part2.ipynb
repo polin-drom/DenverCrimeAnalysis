{
  "cells": [
    {
      "cell_type": "markdown",
      "source": [
        "Датасет: https://www.kaggle.com/datasets/paultimothymooney/denver-crime-data"
      ],
      "metadata": {
        "id": "Li_6yMsGesZU"
      },
      "id": "Li_6yMsGesZU"
    },
    {
      "cell_type": "markdown",
      "metadata": {
        "id": "LuKnTxzccQU3"
      },
      "source": [
        "Считываем данные из файлов, как и в part1:"
      ],
      "id": "LuKnTxzccQU3"
    },
    {
      "cell_type": "code",
      "execution_count": null,
      "metadata": {
        "id": "Ae8aPCRLcQU4"
      },
      "outputs": [],
      "source": [
        "import pandas as pd\n",
        "import numpy as np\n",
        "import warnings\n",
        "warnings.filterwarnings('ignore')"
      ],
      "id": "Ae8aPCRLcQU4"
    },
    {
      "cell_type": "code",
      "execution_count": null,
      "metadata": {
        "scrolled": true,
        "id": "hFD6G-rlcQU5"
      },
      "outputs": [],
      "source": [
        "df = pd.read_csv('C:\\\\RLib\\\\crime.csv')"
      ],
      "id": "hFD6G-rlcQU5"
    },
    {
      "cell_type": "markdown",
      "metadata": {
        "id": "RT4CSCKWcQU5"
      },
      "source": [
        "Снова исключим столбцы с большим количеством пропусков, а так же строки с пропусками:"
      ],
      "id": "RT4CSCKWcQU5"
    },
    {
      "cell_type": "code",
      "execution_count": null,
      "metadata": {
        "id": "Hg6YQYtJcQU5"
      },
      "outputs": [],
      "source": [
        "df = df.drop(['INCIDENT_ADDRESS', 'LAST_OCCURRENCE_DATE', 'FIRST_OCCURRENCE_DATE'], axis=1)\n",
        "df = df.dropna()"
      ],
      "id": "Hg6YQYtJcQU5"
    },
    {
      "cell_type": "markdown",
      "metadata": {
        "id": "VMWWQ2aqcQU6"
      },
      "source": [
        "Преобразуем столбец REPORTED_DATE и разобьем его на стобцы year, month, day, hour и minute, а затем уберем столбец REPORTED_DATE из таблицы:"
      ],
      "id": "VMWWQ2aqcQU6"
    },
    {
      "cell_type": "code",
      "execution_count": null,
      "metadata": {
        "id": "z5tQeKqtcQU6"
      },
      "outputs": [],
      "source": [
        "import datetime\n",
        "df['REPORTED_DATE']=df.REPORTED_DATE.apply(lambda x:datetime.datetime.strptime(x,'%m/%d/%Y %I:%M:%S %p'))\n",
        "df['year']=df.REPORTED_DATE.apply(lambda x:x.strftime('%Y')).astype(int)\n",
        "df['month']=df.REPORTED_DATE.apply(lambda x:x.strftime('%m')).astype(int)\n",
        "df['day']=df.REPORTED_DATE.apply(lambda x:x.strftime('%d')).astype(int)\n",
        "df['hour']=df.REPORTED_DATE.apply(lambda x:x.strftime('%H')).astype(int)\n",
        "df['minute']=df.REPORTED_DATE.apply(lambda x:x.strftime('%M')).astype(int)"
      ],
      "id": "z5tQeKqtcQU6"
    },
    {
      "cell_type": "code",
      "execution_count": null,
      "metadata": {
        "id": "bT6oSYQkcQU6"
      },
      "outputs": [],
      "source": [
        "df = df.drop(['REPORTED_DATE'], axis=1)"
      ],
      "id": "bT6oSYQkcQU6"
    },
    {
      "cell_type": "markdown",
      "metadata": {
        "id": "9CybBfUicQU7"
      },
      "source": [
        "Нормируем числовые признаки:"
      ],
      "id": "9CybBfUicQU7"
    },
    {
      "cell_type": "code",
      "execution_count": null,
      "metadata": {
        "id": "F4R_oVascQU7"
      },
      "outputs": [],
      "source": [
        "import math\n",
        "numeric = ['INCIDENT_ID', 'OFFENSE_ID', 'GEO_X', 'GEO_Y', 'GEO_LON', 'GEO_LAT']\n",
        "for column in numeric:\n",
        "    df[column] = (df[column] - df[column].mean()) / (math.sqrt(df[column].var()))"
      ],
      "id": "F4R_oVascQU7"
    },
    {
      "cell_type": "markdown",
      "metadata": {
        "id": "CM3gTEJgcQU7"
      },
      "source": [
        "Количество различных районов и видов преступлений:"
      ],
      "id": "CM3gTEJgcQU7"
    },
    {
      "cell_type": "code",
      "execution_count": null,
      "metadata": {
        "id": "Io6UlD5GcQU7",
        "outputId": "b886154f-f02d-4937-d624-eb5d7c078106"
      },
      "outputs": [
        {
          "name": "stdout",
          "output_type": "stream",
          "text": [
            "NEIGHBORHOOD_ID 79\n",
            "OFFENSE_TYPE_ID 192\n"
          ]
        }
      ],
      "source": [
        "print('NEIGHBORHOOD_ID', df['NEIGHBORHOOD_ID'].nunique())\n",
        "print('OFFENSE_TYPE_ID', df['OFFENSE_TYPE_ID'].nunique())"
      ],
      "id": "Io6UlD5GcQU7"
    },
    {
      "cell_type": "markdown",
      "metadata": {
        "id": "YicSXixbcQU8"
      },
      "source": [
        "Преобразуем текстовые значения в числовые, сохраняя при этом отдельно названия районов и видов преступлений в массивы neighborhood_id и offense_type_id соответственно:"
      ],
      "id": "YicSXixbcQU8"
    },
    {
      "cell_type": "code",
      "execution_count": null,
      "metadata": {
        "id": "LcTjTEeBcQU8"
      },
      "outputs": [],
      "source": [
        "cur_set = set(df['OFFENSE_CATEGORY_ID'])\n",
        "i = 0\n",
        "for item in cur_set:\n",
        "    df['OFFENSE_CATEGORY_ID'] = df['OFFENSE_CATEGORY_ID'].replace(item, i)\n",
        "    i = i + 1\n",
        "\n",
        "cur_set = set(df['OFFENSE_TYPE_ID'])\n",
        "offense_type_id = []\n",
        "i = 0\n",
        "for item in cur_set:\n",
        "    offense_type_id.append(item)\n",
        "    df['OFFENSE_TYPE_ID'] = df['OFFENSE_TYPE_ID'].replace(item, i)\n",
        "    i += 1\n",
        "\n",
        "cur_set = set(df['NEIGHBORHOOD_ID'])\n",
        "neighborhood_id = []\n",
        "i = 0\n",
        "for item in cur_set:\n",
        "    neighborhood_id.append(item)\n",
        "    df['NEIGHBORHOOD_ID'] = df['NEIGHBORHOOD_ID'].replace(item, i)\n",
        "    i += 1"
      ],
      "id": "LcTjTEeBcQU8"
    },
    {
      "cell_type": "markdown",
      "metadata": {
        "id": "rRpvNql9cQU8"
      },
      "source": [
        "### 1) Выделить районы с наибольшим или наименьшим количеством преступлений"
      ],
      "id": "rRpvNql9cQU8"
    },
    {
      "cell_type": "markdown",
      "metadata": {
        "id": "pQvjQjUocQU8"
      },
      "source": [
        "Всего различных районов 79, посчитаем количество преступлений для каждого из них"
      ],
      "id": "pQvjQjUocQU8"
    },
    {
      "cell_type": "code",
      "execution_count": null,
      "metadata": {
        "scrolled": true,
        "id": "XdIoU-1bcQU8",
        "outputId": "7264e8b4-40e3-4cf1-cff2-858ecc7ca916"
      },
      "outputs": [
        {
          "name": "stdout",
          "output_type": "stream",
          "text": [
            "[3138, 4888, 10419, 1309, 6637, 5155, 3127, 2003, 2323, 3057, 4000, 1778, 2728, 4851, 7016, 2532, 395, 2962, 10568, 3303, 2982, 2249, 3706, 10452, 4577, 1895, 2786, 2757, 22108, 4242, 4987, 2835, 6173, 2732, 4787, 3843, 1766, 3414, 14274, 1106, 8462, 1770, 14022, 2581, 13154, 2694, 2203, 1910, 1795, 1818, 14069, 2367, 803, 4628, 543, 2754, 4942, 9120, 5304, 2688, 4479, 7429, 5540, 5293, 4434, 1174, 8355, 1495, 2823, 3320, 6423, 2560, 3356, 8967, 6910, 2538, 3092, 2956, 1947]\n"
          ]
        }
      ],
      "source": [
        "count_crimes = [0] * 79\n",
        "for index, row in df.iterrows():\n",
        "    if df['IS_CRIME'][index]:\n",
        "        count_crimes[df['NEIGHBORHOOD_ID'][index]] += 1\n",
        "\n",
        "print(count_crimes)"
      ],
      "id": "XdIoU-1bcQU8"
    },
    {
      "cell_type": "markdown",
      "metadata": {
        "id": "ItKKbb-YcQU9"
      },
      "source": [
        "По результатам подсчетов найдем район с минимальным и район с максимальным количеством преступлений:"
      ],
      "id": "ItKKbb-YcQU9"
    },
    {
      "cell_type": "code",
      "execution_count": null,
      "metadata": {
        "id": "6y-4cYXQcQU9",
        "outputId": "3a597bf8-b922-486f-c2d4-fa51dbcee435"
      },
      "outputs": [
        {
          "name": "stdout",
          "output_type": "stream",
          "text": [
            "Район с минимальным количеством преступлений:  wellshire - 395\n",
            "Район с максимальным количеством преступлений:  five-points - 22108\n"
          ]
        }
      ],
      "source": [
        "min_ind = 0\n",
        "max_ind = 0\n",
        "for i in range(79):\n",
        "    if count_crimes[i] < count_crimes[min_ind]:\n",
        "        min_ind = i\n",
        "    if count_crimes[i] > count_crimes[max_ind]:\n",
        "        max_ind = i\n",
        "\n",
        "print(\"Район с минимальным количеством преступлений: \", f\"{neighborhood_id[min_ind]} - {count_crimes[min_ind]}\")\n",
        "print(\"Район с максимальным количеством преступлений: \", f\"{neighborhood_id[max_ind]} - {count_crimes[max_ind]}\")"
      ],
      "id": "6y-4cYXQcQU9"
    },
    {
      "cell_type": "markdown",
      "metadata": {
        "id": "rsHqwD7RcQU9"
      },
      "source": [
        "### 2) Выделить наиболее популярные преступления в каждом районе"
      ],
      "id": "rsHqwD7RcQU9"
    },
    {
      "cell_type": "markdown",
      "metadata": {
        "id": "r9nlKJk0cQU9"
      },
      "source": [
        "Посчитаем, сколько преступлений каждого вида в каждом из районов, а затем, на основе вычислений найдем наиболее популярные в каждом районе преступления:"
      ],
      "id": "r9nlKJk0cQU9"
    },
    {
      "cell_type": "code",
      "execution_count": null,
      "metadata": {
        "id": "IVkXVcpVcQU9",
        "outputId": "3c1036fa-9f57-46c5-af54-e041dcf9df3f"
      },
      "outputs": [
        {
          "name": "stdout",
          "output_type": "stream",
          "text": [
            "Наиболее популярные преступления по каждому из районов:\n",
            "windsor - theft-of-motor-vehicle\n",
            "hampden-south - theft-items-from-vehicle\n",
            "union-station - criminal-trespassing\n",
            "skyland - traf-other\n",
            "hampden - theft-of-motor-vehicle\n",
            "mar-lee - theft-of-motor-vehicle\n",
            "auraria - criminal-trespassing\n",
            "kennedy - theft-of-motor-vehicle\n",
            "whittier - theft-of-motor-vehicle\n",
            "goldsmith - theft-of-motor-vehicle\n",
            "virginia-village - theft-of-motor-vehicle\n",
            "hilltop - theft-items-from-vehicle\n",
            "montclair - theft-shoplift\n",
            "college-view-south-platte - theft-shoplift\n",
            "baker - traf-other\n",
            "university - theft-items-from-vehicle\n",
            "wellshire - theft-items-from-vehicle\n",
            "harvey-park-south - theft-of-motor-vehicle\n",
            "civic-center - sex-off-fail-to-register\n",
            "berkeley - theft-of-motor-vehicle\n",
            "sloan-lake - theft-items-from-vehicle\n",
            "platt-park - theft-items-from-vehicle\n",
            "cherry-creek - theft-shoplift\n",
            "east-colfax - traf-other\n",
            "ruby-hill - traf-other\n",
            "regis - theft-of-motor-vehicle\n",
            "cole - traf-other\n",
            "valverde - theft-of-motor-vehicle\n",
            "five-points - theft-items-from-vehicle\n",
            "harvey-park - theft-of-motor-vehicle\n",
            "city-park-west - liquor-possession\n",
            "marston - theft-shoplift\n",
            "highland - theft-items-from-vehicle\n",
            "hale - theft-items-from-vehicle\n",
            "athmar-park - traf-other\n",
            "barnum - traf-other\n",
            "southmoor-park - theft-items-from-vehicle\n",
            "overland - traf-other\n",
            "central-park - theft-shoplift\n",
            "rosedale - theft-items-from-vehicle\n",
            "west-colfax - traf-other\n",
            "washington-park - theft-items-from-vehicle\n",
            "cbd - criminal-trespassing\n",
            "university-park - theft-items-from-vehicle\n",
            "montbello - traf-other\n",
            "jefferson-park - theft-items-from-vehicle\n",
            "barnum-west - theft-of-motor-vehicle\n",
            "fort-logan - theft-items-from-vehicle\n",
            "cory-merrill - theft-shoplift\n",
            "city-park - theft-items-from-vehicle\n",
            "capitol-hill - theft-items-from-vehicle\n",
            "washington-park-west - theft-items-from-vehicle\n",
            "country-club - theft-items-from-vehicle\n",
            "elyria-swansea - theft-of-motor-vehicle\n",
            "indian-creek - theft-items-from-vehicle\n",
            "clayton - traf-other\n",
            "washington-virginia-vale - theft-of-motor-vehicle\n",
            "lincoln-park - criminal-trespassing\n",
            "cheesman-park - liquor-possession\n",
            "bear-valley - theft-of-motor-vehicle\n",
            "globeville - traf-other\n",
            "north-capitol-hill - theft-items-from-vehicle\n",
            "speer - theft-items-from-vehicle\n",
            "villa-park - traf-other\n",
            "sunnyside - theft-of-motor-vehicle\n",
            "stapleton - theft-shoplift\n",
            "westwood - traf-other\n",
            "belcaro - theft-items-from-vehicle\n",
            "university-hills - theft-shoplift\n",
            "congress-park - theft-items-from-vehicle\n",
            "northeast-park-hill - theft-of-motor-vehicle\n",
            "north-park-hill - traf-other\n",
            "west-highland - theft-items-from-vehicle\n",
            "gateway-green-valley-ranch - theft-of-motor-vehicle\n",
            "dia - theft-of-motor-vehicle\n",
            "south-park-hill - theft-of-motor-vehicle\n",
            "sun-valley - traf-other\n",
            "lowry-field - theft-items-from-vehicle\n",
            "chaffee-park - theft-of-motor-vehicle\n"
          ]
        }
      ],
      "source": [
        "crimes_in_neighborhood = [0] * 79\n",
        "for i in range(79):\n",
        "    crimes_in_neighborhood[i] = [0] * 192\n",
        "\n",
        "popular_crimes = [-1] * 79\n",
        "\n",
        "for index, row in df.iterrows():\n",
        "    if df['IS_CRIME'][index]:\n",
        "        curr_neighborhood = df['NEIGHBORHOOD_ID'][index]\n",
        "        curr_crime_type = df['OFFENSE_TYPE_ID'][index]\n",
        "        crimes_in_neighborhood[curr_neighborhood][curr_crime_type] += 1\n",
        "        if popular_crimes[curr_neighborhood] == -1 or crimes_in_neighborhood[curr_neighborhood][popular_crimes[curr_neighborhood]] < crimes_in_neighborhood[curr_neighborhood][curr_crime_type]:\n",
        "                popular_crimes[curr_neighborhood] = curr_crime_type\n",
        "\n",
        "print(\"Наиболее популярные преступления по каждому из районов:\")\n",
        "for i in range(79):\n",
        "    print(f\"{neighborhood_id[i]} - {offense_type_id[popular_crimes[i]]}\")"
      ],
      "id": "IVkXVcpVcQU9"
    },
    {
      "cell_type": "markdown",
      "metadata": {
        "id": "maqNfAVPcQU9"
      },
      "source": [
        "### 3) Объединить районы в кластеры по набору наиболее распространенных преступлений"
      ],
      "id": "maqNfAVPcQU9"
    },
    {
      "cell_type": "markdown",
      "metadata": {
        "id": "sxhXRUYwcQU-"
      },
      "source": [
        "Целевой признак - NEIGHBORHOOD_ID, в датасет для тренировки попадает столбец OFFENSE_TYPE_ID"
      ],
      "id": "sxhXRUYwcQU-"
    },
    {
      "cell_type": "code",
      "execution_count": null,
      "metadata": {
        "id": "yiOMEYoqcQU-"
      },
      "outputs": [],
      "source": [
        "df_train = df[['OFFENSE_TYPE_ID']]\n",
        "df_test = df['NEIGHBORHOOD_ID']"
      ],
      "id": "yiOMEYoqcQU-"
    },
    {
      "cell_type": "markdown",
      "metadata": {
        "id": "xjxaYaSbcQU-"
      },
      "source": [
        "Разделим данные на тренировочные и проверочные:"
      ],
      "id": "xjxaYaSbcQU-"
    },
    {
      "cell_type": "code",
      "execution_count": null,
      "metadata": {
        "id": "njptr_BicQU-"
      },
      "outputs": [],
      "source": [
        "from sklearn.model_selection import train_test_split\n",
        "x_train, x_test, y_train, y_test = train_test_split(df_train, df_test, test_size=.3, random_state=42)\n",
        "#x_train"
      ],
      "id": "njptr_BicQU-"
    },
    {
      "cell_type": "markdown",
      "metadata": {
        "id": "G3GG9ZjPcQU-"
      },
      "source": [
        "Стандартизируем данные:"
      ],
      "id": "G3GG9ZjPcQU-"
    },
    {
      "cell_type": "code",
      "execution_count": null,
      "metadata": {
        "id": "KcUFoIMacQU-"
      },
      "outputs": [],
      "source": [
        "from sklearn import preprocessing\n",
        "stand_X = pd.DataFrame(preprocessing.scale(x_train), columns = x_train.columns)"
      ],
      "id": "KcUFoIMacQU-"
    },
    {
      "cell_type": "markdown",
      "metadata": {
        "id": "MOTWir6jcQU-"
      },
      "source": [
        "Применим PCA:"
      ],
      "id": "MOTWir6jcQU-"
    },
    {
      "cell_type": "code",
      "execution_count": null,
      "metadata": {
        "id": "l2qS1MMUcQU-"
      },
      "outputs": [],
      "source": [
        "from sklearn.decomposition import PCA\n",
        "pca = PCA()\n",
        "pca.fit(stand_X)\n",
        "less_dimensional_X = pca.transform(stand_X)"
      ],
      "id": "l2qS1MMUcQU-"
    },
    {
      "cell_type": "markdown",
      "metadata": {
        "id": "ER3_6kepcQU-"
      },
      "source": [
        "Построим двухмерное представление данных с помощью алгоритма tSNE:"
      ],
      "id": "ER3_6kepcQU-"
    },
    {
      "cell_type": "code",
      "execution_count": null,
      "metadata": {
        "id": "iYR47BBNcQU-"
      },
      "outputs": [],
      "source": [
        "from sklearn.manifold import TSNE\n",
        "tsne = TSNE(n_components = 2, random_state = 0)\n",
        "tsne_results = tsne.fit_transform(less_dimensional_X)"
      ],
      "id": "iYR47BBNcQU-"
    },
    {
      "cell_type": "code",
      "execution_count": null,
      "metadata": {
        "id": "mdCa5a9CcQU-",
        "outputId": "08be3cda-70f3-407d-fbb4-3b733e612ab4"
      },
      "outputs": [
        {
          "data": {
            "image/png": "[encoded data removed]",
            "text/plain": [
              "<Figure size 720x720 with 1 Axes>"
            ]
          },
          "metadata": {
            "needs_background": "light"
          },
          "output_type": "display_data"
        }
      ],
      "source": [
        "tsne_df = pd.DataFrame({'X':tsne_results[:,0], 'Y':tsne_results[:,1], 'real_ans':y_train})\n",
        "import seaborn as sns\n",
        "import matplotlib.pyplot as plt\n",
        "plt.figure(figsize=(10, 10))\n",
        "sns.scatterplot(x=\"X\", y=\"Y\", data=tsne_df);"
      ],
      "id": "mdCa5a9CcQU-"
    },
    {
      "cell_type": "markdown",
      "metadata": {
        "id": "DMAcHFH5cQU-"
      },
      "source": [
        "Визуально можно выделить 4 кластера"
      ],
      "id": "DMAcHFH5cQU-"
    },
    {
      "cell_type": "markdown",
      "metadata": {
        "id": "a6EDkHGNcQU_"
      },
      "source": [
        "### 4) Построить предсказание типа преступления по информации о времени и месте"
      ],
      "id": "a6EDkHGNcQU_"
    },
    {
      "cell_type": "code",
      "execution_count": null,
      "metadata": {
        "id": "QRfrfAoAcQU_"
      },
      "outputs": [],
      "source": [
        "x = df.loc[:, df.columns.isin(['NEIGHBORHOOD_ID', 'hour', 'minute'])]\n",
        "y = df.loc[:, df.columns.isin(['OFFENSE_TYPE_ID'])]"
      ],
      "id": "QRfrfAoAcQU_"
    },
    {
      "cell_type": "markdown",
      "metadata": {
        "id": "udLfCP1-cQU_"
      },
      "source": [
        "Построение классификатора Random Forest(Случайный Лес):"
      ],
      "id": "udLfCP1-cQU_"
    },
    {
      "cell_type": "code",
      "execution_count": null,
      "metadata": {
        "id": "i2bJvU_KcQVD",
        "outputId": "c613f989-82a1-4a49-8534-28fbfba55af5"
      },
      "outputs": [
        {
          "data": {
            "text/plain": [
              "GridSearchCV(cv=5, estimator=RandomForestClassifier(),\n",
              "             param_grid={'criterion': ['gini'],\n",
              "                         'max_depth': [1, 2, 3, 4, 5, 6, 7, 8, 9],\n",
              "                         'max_features': ['auto'],\n",
              "                         'n_estimators': [50, 100, 150]})"
            ]
          },
          "execution_count": 61,
          "metadata": {},
          "output_type": "execute_result"
        }
      ],
      "source": [
        "x_train, x_test, y_train, y_test = train_test_split(x, y, test_size=.33, random_state=10)\n",
        "\n",
        "from sklearn.ensemble import RandomForestClassifier\n",
        "from sklearn.model_selection import GridSearchCV\n",
        "param_grid = { 'n_estimators': [50, 100, 150],'max_features': ['auto'],'max_depth' : list(range(1, 10)), 'criterion' :['gini']}\n",
        "RFC = GridSearchCV(estimator=RandomForestClassifier(), param_grid=param_grid, cv=5, refit=True)\n",
        "RFC.fit(x_train, y_train)"
      ],
      "id": "i2bJvU_KcQVD"
    },
    {
      "cell_type": "markdown",
      "metadata": {
        "id": "EH6aEv-ycQVD"
      },
      "source": [
        "Оценка точности классификатора:"
      ],
      "id": "EH6aEv-ycQVD"
    },
    {
      "cell_type": "code",
      "execution_count": null,
      "metadata": {
        "id": "_-QGBFs2cQVD",
        "outputId": "d66b1b1d-95bd-485d-adab-3f64f2a1a868"
      },
      "outputs": [
        {
          "name": "stdout",
          "output_type": "stream",
          "text": [
            "f1:0.0039122297083152265\n",
            "precision:0.010228410506625114\n",
            "recall:0.007768342454902\n"
          ]
        }
      ],
      "source": [
        "from sklearn.model_selection import cross_val_score\n",
        "print(\"f1:\"+str(np.average(cross_val_score(RFC.best_estimator_, x_test, y_test, scoring='f1_macro'))))\n",
        "print(\"precision:\"+str(np.average(cross_val_score(RFC.best_estimator_, x_test, y_test, scoring='precision_macro'))))\n",
        "print(\"recall:\"+str(np.average(cross_val_score(RFC.best_estimator_,  x_test, y_test, scoring='recall_macro'))))"
      ],
      "id": "_-QGBFs2cQVD"
    },
    {
      "cell_type": "markdown",
      "metadata": {
        "id": "q0exmCCGcQVE"
      },
      "source": [
        "Метрики F1, precision и recall показали плохие значения"
      ],
      "id": "q0exmCCGcQVE"
    },
    {
      "cell_type": "markdown",
      "metadata": {
        "id": "8FCkSY6_cQVE"
      },
      "source": [
        "Построим линейную регрессию:"
      ],
      "id": "8FCkSY6_cQVE"
    },
    {
      "cell_type": "code",
      "execution_count": null,
      "metadata": {
        "id": "x4Ub9vTLcQVE",
        "outputId": "9e8fa87a-77cf-42c2-ab2d-2f63346afb73"
      },
      "outputs": [
        {
          "name": "stdout",
          "output_type": "stream",
          "text": [
            "R^2 = 0.0005988346583968296\n"
          ]
        }
      ],
      "source": [
        "model = LinearRegression().fit(x, y)\n",
        "print (\"R^2 =\", model.score(x, y))"
      ],
      "id": "x4Ub9vTLcQVE"
    },
    {
      "cell_type": "markdown",
      "metadata": {
        "id": "GAXG3hrZcQVE"
      },
      "source": [
        "Значение R^2 очень плохое. Колебания значений практически не описываются."
      ],
      "id": "GAXG3hrZcQVE"
    },
    {
      "cell_type": "markdown",
      "metadata": {
        "id": "rBmr7yM_cQVE"
      },
      "source": [
        "Можно сделать вывод, что преступления практически не зависят от времени и места, соответственно предсказать их невозможно."
      ],
      "id": "rBmr7yM_cQVE"
    }
  ],
  "metadata": {
    "kernelspec": {
      "display_name": "Python 3",
      "language": "python",
      "name": "python3"
    },
    "language_info": {
      "codemirror_mode": {
        "name": "ipython",
        "version": 3
      },
      "file_extension": ".py",
      "mimetype": "text/x-python",
      "name": "python",
      "nbconvert_exporter": "python",
      "pygments_lexer": "ipython3",
      "version": "3.8.3"
    },
    "colab": {
      "provenance": []
    }
  },
  "nbformat": 4,
  "nbformat_minor": 5
}